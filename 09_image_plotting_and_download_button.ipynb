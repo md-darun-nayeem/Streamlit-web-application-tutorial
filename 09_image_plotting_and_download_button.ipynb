{
  "nbformat": 4,
  "nbformat_minor": 0,
  "metadata": {
    "colab": {
      "provenance": []
    },
    "kernelspec": {
      "name": "python3",
      "display_name": "Python 3"
    },
    "language_info": {
      "name": "python"
    }
  },
  "cells": [
    {
      "cell_type": "code",
      "source": [
        "pip install streamlit"
      ],
      "metadata": {
        "id": "NDIi6YKf9Bx9"
      },
      "execution_count": null,
      "outputs": []
    },
    {
      "cell_type": "code",
      "source": [
        "%%writefile app.py"
      ],
      "metadata": {
        "colab": {
          "base_uri": "https://localhost:8080/"
        },
        "id": "XxPwun1E9OwW",
        "outputId": "c8a955e3-a603-42a0-a398-ef7412fe1c8a"
      },
      "execution_count": 3,
      "outputs": [
        {
          "output_type": "stream",
          "name": "stdout",
          "text": [
            "Writing app.py\n"
          ]
        }
      ]
    },
    {
      "cell_type": "code",
      "source": [
        "! wget -q -O - ipv4.icanhazip.com"
      ],
      "metadata": {
        "colab": {
          "base_uri": "https://localhost:8080/"
        },
        "id": "IAdv6GjM9Ozg",
        "outputId": "bce5b352-0196-499a-fda2-4de2e4b8ae96"
      },
      "execution_count": 4,
      "outputs": [
        {
          "output_type": "stream",
          "name": "stdout",
          "text": [
            "34.125.53.219\n"
          ]
        }
      ]
    },
    {
      "cell_type": "code",
      "source": [
        "! streamlit run app.py & npx localtunnel --port 8501"
      ],
      "metadata": {
        "id": "YQa_FpRE9PCq"
      },
      "execution_count": null,
      "outputs": []
    },
    {
      "cell_type": "code",
      "source": [
        "%%writefile app.py\n",
        "\n",
        "import streamlit as st\n",
        "from PIL import Image\n",
        "\n",
        "image = Image.open('/content/thumbnail.png')\n",
        "\n",
        "st.image(image, caption='Computer Table')\n",
        "\n",
        "with open(\"/content/thumbnail.png\", \"rb\") as file:\n",
        "    btn = st.download_button(\n",
        "            label=\"Download image\",\n",
        "            type = 'primay',\n",
        "            data=file,\n",
        "            file_name=\"/content/thumbnail.png\",\n",
        "            mime=\"image/png\"\n",
        "          )\n",
        "\n"
      ],
      "metadata": {
        "id": "Ix2bbkXB9B0Y"
      },
      "execution_count": null,
      "outputs": []
    },
    {
      "cell_type": "code",
      "source": [],
      "metadata": {
        "id": "TSabtfHv9B3l"
      },
      "execution_count": null,
      "outputs": []
    },
    {
      "cell_type": "code",
      "source": [],
      "metadata": {
        "id": "zwOnS3YrGAl4"
      },
      "execution_count": null,
      "outputs": []
    }
  ]
}