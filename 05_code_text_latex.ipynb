{
  "nbformat": 4,
  "nbformat_minor": 0,
  "metadata": {
    "colab": {
      "provenance": []
    },
    "kernelspec": {
      "name": "python3",
      "display_name": "Python 3"
    },
    "language_info": {
      "name": "python"
    }
  },
  "cells": [
    {
      "cell_type": "code",
      "source": [
        "pip install streamlit\n"
      ],
      "metadata": {
        "id": "sxsVb0CBpQvj"
      },
      "execution_count": null,
      "outputs": []
    },
    {
      "cell_type": "code",
      "source": [
        "%%writefile app.py\n"
      ],
      "metadata": {
        "id": "n2j6OYvbqFOS",
        "colab": {
          "base_uri": "https://localhost:8080/"
        },
        "outputId": "eaac6c3c-6693-427e-c3c4-65240b1c93fa"
      },
      "execution_count": null,
      "outputs": [
        {
          "output_type": "stream",
          "name": "stdout",
          "text": [
            "Writing app.py\n"
          ]
        }
      ]
    },
    {
      "cell_type": "code",
      "source": [
        "! wget -q -O - ipv4.icanhazip.com"
      ],
      "metadata": {
        "id": "fvYOBNH3qFRM",
        "colab": {
          "base_uri": "https://localhost:8080/"
        },
        "outputId": "1ecc5c5b-e186-4d3e-a244-fde9def5a5da"
      },
      "execution_count": null,
      "outputs": [
        {
          "output_type": "stream",
          "name": "stdout",
          "text": [
            "34.70.173.120\n"
          ]
        }
      ]
    },
    {
      "cell_type": "code",
      "source": [
        "! streamlit run app.py & npx localtunnel --port 8501"
      ],
      "metadata": {
        "id": "9as_RECHqFUU",
        "colab": {
          "base_uri": "https://localhost:8080/"
        },
        "outputId": "9ccb001b-ca80-4269-d024-8f7de023d8ca"
      },
      "execution_count": 4,
      "outputs": [
        {
          "output_type": "stream",
          "name": "stdout",
          "text": [
            "\n",
            "Collecting usage statistics. To deactivate, set browser.gatherUsageStats to False.\n",
            "\u001b[0m\n",
            "\u001b[0m\n",
            "\u001b[34m\u001b[1m  You can now view your Streamlit app in your browser.\u001b[0m\n",
            "\u001b[0m\n",
            "\u001b[34m  Network URL: \u001b[0m\u001b[1mhttp://172.28.0.12:8501\u001b[0m\n",
            "\u001b[34m  External URL: \u001b[0m\u001b[1mhttp://34.70.173.120:8501\u001b[0m\n",
            "\u001b[0m\n",
            "\u001b[K\u001b[?25hnpx: installed 22 in 7.801s\n",
            "your url is: https://smooth-flies-repair.loca.lt\n",
            "\u001b[34m  Stopping...\u001b[0m\n",
            "^C\n"
          ]
        }
      ]
    },
    {
      "cell_type": "code",
      "source": [
        "%%writefile app.py\n",
        "\n",
        "import streamlit as st\n",
        "\n",
        "st.title('snakeincode')\n",
        "\n",
        "code = '''\n",
        "        #include <stdio.h>\n",
        "        int main() {\n",
        "        // printf() displays the string inside quotation\n",
        "        printf(\"Hello, World!\");\n",
        "        return 0;\n",
        "        }\n",
        "\n",
        "'''\n",
        "\n",
        "st.code(code, language= 'c')\n",
        "\n",
        "\n",
        "st.text('please subscribe my channel')\n",
        "\n",
        "st.latex(\n",
        "    r'''\n",
        "    a + ar + a r^2 + a r^3 + \\cdots + a r^{n-1} =\n",
        "    \\sum_{k=0}^{n-1} ar^k =\n",
        "    a \\left(\\frac{1-r^{n}}{1-r}\\right)\n",
        "\n",
        "    '''\n",
        ")\n",
        "\n",
        "\n",
        "\n",
        "\n"
      ],
      "metadata": {
        "id": "rlhRJRV9HTkJ"
      },
      "execution_count": 4,
      "outputs": []
    },
    {
      "cell_type": "code",
      "source": [],
      "metadata": {
        "id": "HfCAyvsOHTnj"
      },
      "execution_count": 4,
      "outputs": []
    },
    {
      "cell_type": "code",
      "source": [],
      "metadata": {
        "id": "0Te2pRsGHTqa"
      },
      "execution_count": 4,
      "outputs": []
    }
  ]
}