{
  "nbformat": 4,
  "nbformat_minor": 0,
  "metadata": {
    "colab": {
      "provenance": []
    },
    "kernelspec": {
      "name": "python3",
      "display_name": "Python 3"
    },
    "language_info": {
      "name": "python"
    }
  },
  "cells": [
    {
      "cell_type": "code",
      "source": [
        "pip install streamlit\n"
      ],
      "metadata": {
        "id": "sxsVb0CBpQvj"
      },
      "execution_count": null,
      "outputs": []
    },
    {
      "cell_type": "code",
      "source": [
        "%%writefile app.py\n"
      ],
      "metadata": {
        "id": "n2j6OYvbqFOS",
        "colab": {
          "base_uri": "https://localhost:8080/"
        },
        "outputId": "7bf5351a-ffac-4de1-8a89-27d9ef52e9bd"
      },
      "execution_count": null,
      "outputs": [
        {
          "output_type": "stream",
          "name": "stdout",
          "text": [
            "Writing app.py\n"
          ]
        }
      ]
    },
    {
      "cell_type": "code",
      "source": [
        "! wget -q -O - ipv4.icanhazip.com"
      ],
      "metadata": {
        "id": "fvYOBNH3qFRM",
        "colab": {
          "base_uri": "https://localhost:8080/"
        },
        "outputId": "9b58de15-a209-4b1b-8792-922921ffbf1b"
      },
      "execution_count": null,
      "outputs": [
        {
          "output_type": "stream",
          "name": "stdout",
          "text": [
            "34.67.210.89\n"
          ]
        }
      ]
    },
    {
      "cell_type": "code",
      "source": [
        "! streamlit run app.py & npx localtunnel --port 8501"
      ],
      "metadata": {
        "id": "9as_RECHqFUU"
      },
      "execution_count": null,
      "outputs": []
    },
    {
      "cell_type": "code",
      "source": [
        "%%writefile app.py\n",
        "\n",
        "st.write(\"This is some text.\")\n",
        "\n",
        "st.slider(\"This is a slider\", 0, 100, (25, 75))\n"
      ],
      "metadata": {
        "id": "rlhRJRV9HTkJ",
        "colab": {
          "base_uri": "https://localhost:8080/"
        },
        "outputId": "ba9b6460-b55f-4dc8-e1e8-05784f418726"
      },
      "execution_count": 5,
      "outputs": [
        {
          "metadata": {
            "tags": null
          },
          "name": "stdout",
          "output_type": "stream",
          "text": [
            "Overwriting app.py\n"
          ]
        }
      ]
    },
    {
      "cell_type": "code",
      "source": [],
      "metadata": {
        "id": "HfCAyvsOHTnj"
      },
      "execution_count": 5,
      "outputs": []
    },
    {
      "cell_type": "code",
      "source": [],
      "metadata": {
        "id": "0Te2pRsGHTqa"
      },
      "execution_count": 5,
      "outputs": []
    }
  ]
}