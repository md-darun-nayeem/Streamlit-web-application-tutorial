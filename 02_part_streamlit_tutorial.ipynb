{
  "nbformat": 4,
  "nbformat_minor": 0,
  "metadata": {
    "colab": {
      "provenance": []
    },
    "kernelspec": {
      "name": "python3",
      "display_name": "Python 3"
    },
    "language_info": {
      "name": "python"
    }
  },
  "cells": [
    {
      "cell_type": "code",
      "execution_count": null,
      "metadata": {
        "id": "Hb56MeoONuCO"
      },
      "outputs": [],
      "source": [
        "pip install streamlit"
      ]
    },
    {
      "cell_type": "code",
      "source": [
        "%%writefile app.py"
      ],
      "metadata": {
        "colab": {
          "base_uri": "https://localhost:8080/"
        },
        "id": "qIi-syEzODZY",
        "outputId": "68808b62-9e8d-4ea3-ca7f-c776a5164847"
      },
      "execution_count": 6,
      "outputs": [
        {
          "output_type": "stream",
          "name": "stdout",
          "text": [
            "Overwriting app.py\n"
          ]
        }
      ]
    },
    {
      "cell_type": "code",
      "source": [
        "! wget -q -O - ipv4.icanhazip.com"
      ],
      "metadata": {
        "colab": {
          "base_uri": "https://localhost:8080/"
        },
        "id": "Do1FLABQP6oO",
        "outputId": "45b583f7-8731-4566-d228-a7fbac4da23a"
      },
      "execution_count": 10,
      "outputs": [
        {
          "output_type": "stream",
          "name": "stdout",
          "text": [
            "35.221.16.12\n"
          ]
        }
      ]
    },
    {
      "cell_type": "code",
      "source": [
        "! streamlit run app.py & npx localtunnel --port 8501\n"
      ],
      "metadata": {
        "colab": {
          "base_uri": "https://localhost:8080/"
        },
        "id": "FueeJOuXRWS4",
        "outputId": "a130bf1d-9a0c-46ef-92ce-faa3a3d3e350"
      },
      "execution_count": 11,
      "outputs": [
        {
          "output_type": "stream",
          "name": "stdout",
          "text": [
            "\u001b[?25l[..................] / rollbackFailedOptional: verb npm-session 0e2553ebac0d669\u001b[0m\u001b[K\r[..................] / rollbackFailedOptional: verb npm-session 0e2553ebac0d669\u001b[0m\u001b[K\r[..................] / rollbackFailedOptional: verb npm-session 0e2553ebac0d669\u001b[0m\u001b[K\r[..................] / rollbackFailedOptional: verb npm-session 0e2553ebac0d669\u001b[0m\u001b[K\r\n",
            "Collecting usage statistics. To deactivate, set browser.gatherUsageStats to False.\n",
            "\u001b[0m\n",
            "\u001b[0m\n",
            "\u001b[34m\u001b[1m  You can now view your Streamlit app in your browser.\u001b[0m\n",
            "\u001b[0m\n",
            "\u001b[34m  Network URL: \u001b[0m\u001b[1mhttp://172.28.0.12:8501\u001b[0m\n",
            "\u001b[34m  External URL: \u001b[0m\u001b[1mhttp://35.221.16.12:8501\u001b[0m\n",
            "\u001b[0m\n",
            "\u001b[K\u001b[?25hnpx: installed 22 in 2.744s\n",
            "your url is: https://heavy-feet-cut.loca.lt\n",
            "2023-11-24 03:34:47.834 Uncaught app exception\n",
            "Traceback (most recent call last):\n",
            "  File \"/usr/local/lib/python3.10/dist-packages/streamlit/runtime/scriptrunner/script_runner.py\", line 534, in _run_script\n",
            "    exec(code, module.__dict__)\n",
            "  File \"/content/app.py\", line 30, in <module>\n",
            "    pd.write(data_frame)\n",
            "  File \"/usr/local/lib/python3.10/dist-packages/pandas/__init__.py\", line 264, in __getattr__\n",
            "    raise AttributeError(f\"module 'pandas' has no attribute '{name}'\")\n",
            "AttributeError: module 'pandas' has no attribute 'write'\n",
            "2023-11-24 03:41:21.442 Uncaught app exception\n",
            "Traceback (most recent call last):\n",
            "  File \"/usr/local/lib/python3.10/dist-packages/streamlit/runtime/scriptrunner/script_runner.py\", line 534, in _run_script\n",
            "    exec(code, module.__dict__)\n",
            "  File \"/content/app.py\", line 19, in <module>\n",
            "    data_frame= pd.DataFrame({\n",
            "  File \"/usr/local/lib/python3.10/dist-packages/pandas/core/frame.py\", line 664, in __init__\n",
            "    mgr = dict_to_mgr(data, index, columns, dtype=dtype, copy=copy, typ=manager)\n",
            "  File \"/usr/local/lib/python3.10/dist-packages/pandas/core/internals/construction.py\", line 493, in dict_to_mgr\n",
            "    return arrays_to_mgr(arrays, columns, index, dtype=dtype, typ=typ, consolidate=copy)\n",
            "  File \"/usr/local/lib/python3.10/dist-packages/pandas/core/internals/construction.py\", line 118, in arrays_to_mgr\n",
            "    index = _extract_index(arrays)\n",
            "  File \"/usr/local/lib/python3.10/dist-packages/pandas/core/internals/construction.py\", line 666, in _extract_index\n",
            "    raise ValueError(\"All arrays must be of the same length\")\n",
            "ValueError: All arrays must be of the same length\n",
            "2023-11-24 03:41:39.847 Uncaught app exception\n",
            "Traceback (most recent call last):\n",
            "  File \"/usr/local/lib/python3.10/dist-packages/streamlit/runtime/scriptrunner/script_runner.py\", line 534, in _run_script\n",
            "    exec(code, module.__dict__)\n",
            "  File \"/content/app.py\", line 19, in <module>\n",
            "    data_frame= pd.DataFrame({\n",
            "  File \"/usr/local/lib/python3.10/dist-packages/pandas/core/frame.py\", line 664, in __init__\n",
            "    mgr = dict_to_mgr(data, index, columns, dtype=dtype, copy=copy, typ=manager)\n",
            "  File \"/usr/local/lib/python3.10/dist-packages/pandas/core/internals/construction.py\", line 493, in dict_to_mgr\n",
            "    return arrays_to_mgr(arrays, columns, index, dtype=dtype, typ=typ, consolidate=copy)\n",
            "  File \"/usr/local/lib/python3.10/dist-packages/pandas/core/internals/construction.py\", line 118, in arrays_to_mgr\n",
            "    index = _extract_index(arrays)\n",
            "  File \"/usr/local/lib/python3.10/dist-packages/pandas/core/internals/construction.py\", line 666, in _extract_index\n",
            "    raise ValueError(\"All arrays must be of the same length\")\n",
            "ValueError: All arrays must be of the same length\n",
            "2023-11-24 03:52:34.622 Uncaught app exception\n",
            "Traceback (most recent call last):\n",
            "  File \"/usr/local/lib/python3.10/dist-packages/streamlit/runtime/scriptrunner/script_runner.py\", line 534, in _run_script\n",
            "    exec(code, module.__dict__)\n",
            "  File \"/content/app.py\", line 16, in <module>\n",
            "    data_frame = pd.DataFrame({\n",
            "  File \"/usr/local/lib/python3.10/dist-packages/pandas/core/frame.py\", line 664, in __init__\n",
            "    mgr = dict_to_mgr(data, index, columns, dtype=dtype, copy=copy, typ=manager)\n",
            "  File \"/usr/local/lib/python3.10/dist-packages/pandas/core/internals/construction.py\", line 493, in dict_to_mgr\n",
            "    return arrays_to_mgr(arrays, columns, index, dtype=dtype, typ=typ, consolidate=copy)\n",
            "  File \"/usr/local/lib/python3.10/dist-packages/pandas/core/internals/construction.py\", line 118, in arrays_to_mgr\n",
            "    index = _extract_index(arrays)\n",
            "  File \"/usr/local/lib/python3.10/dist-packages/pandas/core/internals/construction.py\", line 666, in _extract_index\n",
            "    raise ValueError(\"All arrays must be of the same length\")\n",
            "ValueError: All arrays must be of the same length\n",
            "2023-11-24 03:52:52.745 Uncaught app exception\n",
            "Traceback (most recent call last):\n",
            "  File \"/usr/local/lib/python3.10/dist-packages/streamlit/runtime/scriptrunner/script_runner.py\", line 534, in _run_script\n",
            "    exec(code, module.__dict__)\n",
            "  File \"/content/app.py\", line 16, in <module>\n",
            "    data_frame = pd.DataFrame({\n",
            "  File \"/usr/local/lib/python3.10/dist-packages/pandas/core/frame.py\", line 664, in __init__\n",
            "    mgr = dict_to_mgr(data, index, columns, dtype=dtype, copy=copy, typ=manager)\n",
            "  File \"/usr/local/lib/python3.10/dist-packages/pandas/core/internals/construction.py\", line 493, in dict_to_mgr\n",
            "    return arrays_to_mgr(arrays, columns, index, dtype=dtype, typ=typ, consolidate=copy)\n",
            "  File \"/usr/local/lib/python3.10/dist-packages/pandas/core/internals/construction.py\", line 118, in arrays_to_mgr\n",
            "    index = _extract_index(arrays)\n",
            "  File \"/usr/local/lib/python3.10/dist-packages/pandas/core/internals/construction.py\", line 666, in _extract_index\n",
            "    raise ValueError(\"All arrays must be of the same length\")\n",
            "ValueError: All arrays must be of the same length\n",
            "\u001b[34m  Stopping...\u001b[0m\n",
            "^C\n"
          ]
        }
      ]
    },
    {
      "cell_type": "code",
      "source": [
        "%%writefile app.py\n",
        "\n",
        "import streamlit as st\n",
        "import pandas as pd\n",
        "\n",
        "st.write('SnakeInCode')\n",
        "\n",
        "st.write(\n",
        "    '''\n",
        "    How is _Elon_ Musk _famous_ for?\n",
        "    Elon Musk | Biography, SpaceX, Tesla, Twitter, X, & Facts ...\n",
        "    Elon Musk cofounded the electronic payment firm PayPal,\n",
        "    and in 2002 he founded SpaceX, a company that makes rockets and spacecraft. He was a major early funder of Tesla, which makes electric cars and batteries, and became its chief executive officer in 2008.\n",
        "    He cofounded Neuralink, a neurotechnology company, in 2016.\n",
        "    '''\n",
        ")\n",
        "\n",
        "st.write (pd.DataFrame({\n",
        "    'Names': ['Sanke','Darun','Nayeem'],\n",
        "    'ID': [40,45,10]\n",
        "})\n",
        ")\n",
        "\n",
        "\n"
      ],
      "metadata": {
        "id": "HWulvUDnRWYQ"
      },
      "execution_count": null,
      "outputs": []
    },
    {
      "cell_type": "code",
      "source": [],
      "metadata": {
        "id": "afua2zykRWa2"
      },
      "execution_count": null,
      "outputs": []
    }
  ]
}