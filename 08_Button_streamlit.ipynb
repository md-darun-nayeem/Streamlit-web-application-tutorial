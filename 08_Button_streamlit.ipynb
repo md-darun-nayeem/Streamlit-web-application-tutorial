{
  "nbformat": 4,
  "nbformat_minor": 0,
  "metadata": {
    "colab": {
      "provenance": []
    },
    "kernelspec": {
      "name": "python3",
      "display_name": "Python 3"
    },
    "language_info": {
      "name": "python"
    }
  },
  "cells": [
    {
      "cell_type": "code",
      "source": [
        "pip install streamlit\n"
      ],
      "metadata": {
        "id": "sxsVb0CBpQvj"
      },
      "execution_count": null,
      "outputs": []
    },
    {
      "cell_type": "code",
      "source": [
        "%%writefile app.py"
      ],
      "metadata": {
        "id": "n2j6OYvbqFOS",
        "colab": {
          "base_uri": "https://localhost:8080/"
        },
        "outputId": "f038bc38-7816-456c-d561-0e3f45721132"
      },
      "execution_count": 2,
      "outputs": [
        {
          "output_type": "stream",
          "name": "stdout",
          "text": [
            "Writing app.py\n"
          ]
        }
      ]
    },
    {
      "cell_type": "code",
      "source": [
        "! wget -q -O - ipv4.icanhazip.com"
      ],
      "metadata": {
        "id": "fvYOBNH3qFRM",
        "colab": {
          "base_uri": "https://localhost:8080/"
        },
        "outputId": "290f5b0e-1e8c-4b22-8091-f8c99d9b629c"
      },
      "execution_count": 3,
      "outputs": [
        {
          "output_type": "stream",
          "name": "stdout",
          "text": [
            "35.196.160.39\n"
          ]
        }
      ]
    },
    {
      "cell_type": "code",
      "source": [
        "! streamlit run app.py & npx localtunnel --port 8501"
      ],
      "metadata": {
        "id": "9as_RECHqFUU",
        "colab": {
          "base_uri": "https://localhost:8080/"
        },
        "outputId": "55f350ca-f320-4d97-c51a-3ad1e34776b1"
      },
      "execution_count": 7,
      "outputs": [
        {
          "output_type": "stream",
          "name": "stdout",
          "text": [
            "\u001b[?25l[..................] / rollbackFailedOptional: verb npm-session c7ea7b90e69bc55\u001b[0m\u001b[K\r[..................] / rollbackFailedOptional: verb npm-session c7ea7b90e69bc55\u001b[0m\u001b[K\r[..................] / rollbackFailedOptional: verb npm-session c7ea7b90e69bc55\u001b[0m\u001b[K\r\n",
            "Collecting usage statistics. To deactivate, set browser.gatherUsageStats to False.\n",
            "\u001b[0m\n",
            "\u001b[0m\n",
            "\u001b[34m\u001b[1m  You can now view your Streamlit app in your browser.\u001b[0m\n",
            "\u001b[0m\n",
            "\u001b[34m  Network URL: \u001b[0m\u001b[1mhttp://172.28.0.12:8501\u001b[0m\n",
            "\u001b[34m  External URL: \u001b[0m\u001b[1mhttp://35.196.160.39:8501\u001b[0m\n",
            "\u001b[0m\n",
            "\u001b[K\u001b[?25hnpx: installed 22 in 3.381s\n",
            "your url is: https://eight-pots-occur.loca.lt\n",
            "\u001b[34m  Stopping...\u001b[0m\n",
            "^C\n"
          ]
        }
      ]
    },
    {
      "cell_type": "code",
      "source": [
        "%%writefile app.py\n",
        "\n",
        "import streamlit as st\n",
        "\n",
        "st.button(\"Reset\", type=\"primary\")\n",
        "if st.button('Hello'):\n",
        "    st.write('Hello there')\n",
        "else :\n",
        "    st.write('Good bye')\n",
        ""
      ],
      "metadata": {
        "id": "rDhW5e91EJFB",
        "colab": {
          "base_uri": "https://localhost:8080/"
        },
        "outputId": "dd1505e9-cc17-4bb0-eeb7-8d6307332967"
      },
      "execution_count": 5,
      "outputs": [
        {
          "output_type": "stream",
          "name": "stdout",
          "text": [
            "Overwriting app.py\n"
          ]
        }
      ]
    },
    {
      "cell_type": "code",
      "source": [],
      "metadata": {
        "id": "HfCAyvsOHTnj"
      },
      "execution_count": 6,
      "outputs": []
    },
    {
      "cell_type": "code",
      "source": [],
      "metadata": {
        "id": "0Te2pRsGHTqa"
      },
      "execution_count": 6,
      "outputs": []
    }
  ]
}